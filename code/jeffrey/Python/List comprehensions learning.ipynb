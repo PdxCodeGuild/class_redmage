{
 "cells": [
  {
   "cell_type": "code",
   "execution_count": 2,
   "metadata": {},
   "outputs": [
    {
     "name": "stdout",
     "output_type": "stream",
     "text": [
      "[2, 6, 10]\n"
     ]
    }
   ],
   "source": [
    "numbers = [1, 2, 3, 4, 5]\n",
    "doubled_odds = [n * 2 for n in numbers if n % 2 == 1]\n",
    "print(doubled_odds)"
   ]
  },
  {
   "cell_type": "code",
   "execution_count": 3,
   "metadata": {},
   "outputs": [
    {
     "name": "stdout",
     "output_type": "stream",
     "text": [
      "[[1, 0, 0], [0, 1, 0], [0, 0, 1]]\n"
     ]
    }
   ],
   "source": [
    "grid = [[1 if col == row else 0 for col in range(0, 3) ] for row in range(0, 3) ]\n",
    "print(grid)"
   ]
  },
  {
   "cell_type": "code",
   "execution_count": 6,
   "metadata": {},
   "outputs": [],
   "source": [
    "years = [1995, 2000, 2004, 2010, 2011]\n",
    "\n",
    "\n",
    "# transform the value of list 'years' if it's divisible by 4 to \"leap\" otherwise \n",
    "# transform the value to \"not leap\" for each value in 'years' if it fits the filter condition \n",
    "# x's value is greater than or equal to 2000.\n",
    "leap_years = [\"leap\" if x % 4 == 0 else \"not leap\" for x in years if x >= 2000]"
   ]
  }
 ],
 "metadata": {
  "kernelspec": {
   "display_name": "Python 3",
   "language": "python",
   "name": "python3"
  },
  "language_info": {
   "codemirror_mode": {
    "name": "ipython",
    "version": 3
   },
   "file_extension": ".py",
   "mimetype": "text/x-python",
   "name": "python",
   "nbconvert_exporter": "python",
   "pygments_lexer": "ipython3",
   "version": "3.7.0"
  }
 },
 "nbformat": 4,
 "nbformat_minor": 2
}
