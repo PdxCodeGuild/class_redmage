{
 "cells": [
  {
   "cell_type": "code",
   "execution_count": 47,
   "metadata": {},
   "outputs": [
    {
     "ename": "ModuleNotFoundError",
     "evalue": "No module named 'path'",
     "output_type": "error",
     "traceback": [
      "\u001b[1;31m---------------------------------------------------------------------------\u001b[0m",
      "\u001b[1;31mModuleNotFoundError\u001b[0m                       Traceback (most recent call last)",
      "\u001b[1;32m<ipython-input-47-a0e3e34aee59>\u001b[0m in \u001b[0;36m<module>\u001b[1;34m\u001b[0m\n\u001b[0;32m      2\u001b[0m \u001b[1;32mimport\u001b[0m \u001b[0mstring\u001b[0m\u001b[1;33m\u001b[0m\u001b[0m\n\u001b[0;32m      3\u001b[0m \u001b[1;32mimport\u001b[0m \u001b[0mpathlib\u001b[0m\u001b[1;33m\u001b[0m\u001b[0m\n\u001b[1;32m----> 4\u001b[1;33m \u001b[1;32mimport\u001b[0m \u001b[0mpath\u001b[0m\u001b[1;33m\u001b[0m\u001b[0m\n\u001b[0m\u001b[0;32m      5\u001b[0m \u001b[1;33m\u001b[0m\u001b[0m\n\u001b[0;32m      6\u001b[0m \u001b[0mf\u001b[0m \u001b[1;33m=\u001b[0m \u001b[0mopen\u001b[0m\u001b[1;33m(\u001b[0m\u001b[1;34mr'C:\\Users\\jeffr\\Documents\\Projects\\class_redmage\\code\\jeffrey\\gettysburgaddress.txt'\u001b[0m\u001b[1;33m,\u001b[0m \u001b[0mencoding\u001b[0m\u001b[1;33m=\u001b[0m\u001b[1;34m'utf-8-sig'\u001b[0m\u001b[1;33m)\u001b[0m\u001b[1;33m\u001b[0m\u001b[0m\n",
      "\u001b[1;31mModuleNotFoundError\u001b[0m: No module named 'path'"
     ]
    }
   ],
   "source": [
    "import math\n",
    "import string\n",
    "import pathlib\n",
    "import path\n",
    "\n",
    "f = open(r'C:\\Users\\jeffr\\Documents\\Projects\\class_redmage\\code\\jeffrey\\gettysburgaddress.txt', encoding='utf-8-sig')\n",
    "text = f.read().lower()\n",
    "file_name = path.name(r'C:\\Users\\jeffr\\Documents\\Projects\\class_redmage\\code\\jeffrey\\gettysburgaddress.txt')\n",
    "\n",
    "def ari_calc(characters,words,sentences):\n",
    "    score = 4.71*(characters/words) + (.5*(words/sentences))-21.43\n",
    "    score = math.ceil(score)\n",
    "    return score \n",
    "\n",
    "ari_scale = {\n",
    "     1: {'ages':   '5-6', 'grade_level': 'Kindergarten'},\n",
    "     2: {'ages':   '6-7', 'grade_level':    '1st Grade'},\n",
    "     3: {'ages':   '7-8', 'grade_level':    '2nd Grade'},\n",
    "     4: {'ages':   '8-9', 'grade_level':    '3rd Grade'},\n",
    "     5: {'ages':  '9-10', 'grade_level':    '4th Grade'},\n",
    "     6: {'ages': '10-11', 'grade_level':    '5th Grade'},\n",
    "     7: {'ages': '11-12', 'grade_level':    '6th Grade'},\n",
    "     8: {'ages': '12-13', 'grade_level':    '7th Grade'},\n",
    "     9: {'ages': '13-14', 'grade_level':    '8th Grade'},\n",
    "    10: {'ages': '14-15', 'grade_level':    '9th Grade'},\n",
    "    11: {'ages': '15-16', 'grade_level':   '10th Grade'},\n",
    "    12: {'ages': '16-17', 'grade_level':   '11th Grade'},\n",
    "    13: {'ages': '17-18', 'grade_level':   '12th Grade'},\n",
    "    14: {'ages': '18-22', 'grade_level':      'College'}\n",
    "}\n",
    "\n",
    "# def remove_punc():\n",
    "#     while True:\n",
    "#         if \n",
    "\n",
    "sentence_punc = [\".\",\"!\",\"?\"]\n",
    "\n",
    "for e in sentence_punc:\n",
    "    sentence1 = text.count(sentence_punc[0])\n",
    "    sentence2 = text.count(sentence_punc[1])\n",
    "    sentence3 = text.count(sentence_punc[2])\n",
    "    sentences = (sentence1) + (sentence2) + (sentence3)\n",
    "    \n",
    "\n",
    "# need to create the word counter\n",
    "words = len(list(text.split()))\n",
    "print(f\"wordcount: {words}\")\n",
    "\n",
    "\n",
    "remove_space_punc = dict.fromkeys(map(ord, '\\n ' + string.punctuation))\n",
    "\n",
    "with f as inputfile:\n",
    "    f = text.translate(remove_space_punc)\n",
    "\n",
    "characters = len(f)\n",
    "\n",
    "print(f\"character count: {characters}\")\n",
    "print(f\"sentence count: {sentences}\")\n",
    "\n",
    "print(f\"ari score: {ari_calc(characters,words,sentences)}\")\n",
    "\n",
    "def printer(x):\n",
    "    print(\"+\"*15)"
   ]
  },
  {
   "cell_type": "code",
   "execution_count": null,
   "metadata": {},
   "outputs": [],
   "source": []
  }
 ],
 "metadata": {
  "kernelspec": {
   "display_name": "Python 3",
   "language": "python",
   "name": "python3"
  },
  "language_info": {
   "codemirror_mode": {
    "name": "ipython",
    "version": 3
   },
   "file_extension": ".py",
   "mimetype": "text/x-python",
   "name": "python",
   "nbconvert_exporter": "python",
   "pygments_lexer": "ipython3",
   "version": "3.7.0"
  }
 },
 "nbformat": 4,
 "nbformat_minor": 2
}
