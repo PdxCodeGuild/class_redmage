{
 "cells": [
  {
   "cell_type": "code",
   "execution_count": 1,
   "metadata": {},
   "outputs": [
    {
     "name": "stdout",
     "output_type": "stream",
     "text": [
      "{'pear', 'apple', 'orange', 'banana'}\n"
     ]
    }
   ],
   "source": [
    "# a set only contains unique elements, and is specified using curly braces\n",
    "fruits = {'apple', 'orange', 'apple', 'pear', 'orange', 'banana'}\n",
    "print(fruits)"
   ]
  },
  {
   "cell_type": "code",
   "execution_count": 2,
   "metadata": {
    "scrolled": true
   },
   "outputs": [
    {
     "name": "stdout",
     "output_type": "stream",
     "text": [
      "True\n",
      "False\n"
     ]
    }
   ],
   "source": [
    "# you can check if a set contains an element using 'in'\n",
    "print('orange' in fruits)\n",
    "print('crabgrass' in fruits)"
   ]
  },
  {
   "cell_type": "code",
   "execution_count": 3,
   "metadata": {},
   "outputs": [
    {
     "name": "stdout",
     "output_type": "stream",
     "text": [
      "pear\n",
      "apple\n",
      "orange\n",
      "banana\n"
     ]
    }
   ],
   "source": [
    "# iterate over the elemens of a set\n",
    "for fruit in fruits:\n",
    "    print(fruit)"
   ]
  },
  {
   "cell_type": "code",
   "execution_count": 4,
   "metadata": {},
   "outputs": [
    {
     "name": "stdout",
     "output_type": "stream",
     "text": [
      "{'rasberry', 'banana', 'currant', 'blueberry', 'dragonfruit', 'pear', 'apple', 'orange'}\n"
     ]
    }
   ],
   "source": [
    "# add an element to a set\n",
    "fruits.add('blueberry')\n",
    "\n",
    "# add many elements to a set\n",
    "fruits.update(['dragonfruit', 'rasberry', 'currant'])\n",
    "\n",
    "print(fruits)"
   ]
  },
  {
   "cell_type": "code",
   "execution_count": 5,
   "metadata": {},
   "outputs": [
    {
     "name": "stdout",
     "output_type": "stream",
     "text": [
      "{'c', 'r', 'a', 'b', 'd'}\n",
      "{'m', 'c', 'z', 'a', 'l'}\n"
     ]
    }
   ],
   "source": [
    "# create sets from strings\n",
    "a = set('abracadabra')\n",
    "b = set('alacazam')\n",
    "print(a)\n",
    "print(b)"
   ]
  },
  {
   "cell_type": "code",
   "execution_count": 6,
   "metadata": {},
   "outputs": [
    {
     "name": "stdout",
     "output_type": "stream",
     "text": [
      "{'r', 'b', 'd'}\n"
     ]
    }
   ],
   "source": [
    "print(a - b) # letters in a but not in b"
   ]
  },
  {
   "cell_type": "code",
   "execution_count": 7,
   "metadata": {},
   "outputs": [
    {
     "name": "stdout",
     "output_type": "stream",
     "text": [
      "{'m', 'l', 'c', 'r', 'z', 'a', 'b', 'd'}\n"
     ]
    }
   ],
   "source": [
    "print(a | b) # letters in a or b or both"
   ]
  },
  {
   "cell_type": "code",
   "execution_count": 8,
   "metadata": {},
   "outputs": [
    {
     "name": "stdout",
     "output_type": "stream",
     "text": [
      "{'a', 'c'}\n"
     ]
    }
   ],
   "source": [
    "print(a & b) # letters in both a and b"
   ]
  },
  {
   "cell_type": "code",
   "execution_count": 9,
   "metadata": {},
   "outputs": [
    {
     "name": "stdout",
     "output_type": "stream",
     "text": [
      "{'b', 'm', 'r', 'z', 'l', 'd'}\n"
     ]
    }
   ],
   "source": [
    "print(a ^ b) # letters in a or b but not both"
   ]
  },
  {
   "cell_type": "code",
   "execution_count": 10,
   "metadata": {},
   "outputs": [
    {
     "name": "stdout",
     "output_type": "stream",
     "text": [
      "<class 'set'>\n",
      "<class 'dict'>\n"
     ]
    }
   ],
   "source": [
    "# you can create a blank set with set(), {} is a dictionary\n",
    "print(type(set()))\n",
    "print(type({}))"
   ]
  },
  {
   "cell_type": "code",
   "execution_count": 11,
   "metadata": {},
   "outputs": [
    {
     "name": "stdout",
     "output_type": "stream",
     "text": [
      "{'jack': 4098, 'sape': 4139}\n"
     ]
    }
   ],
   "source": [
    "# a dictionary is a collection of 'name-value pairs'\n",
    "tel = {'jack': 4098, 'sape': 4139}\n",
    "print(tel)"
   ]
  },
  {
   "cell_type": "code",
   "execution_count": 12,
   "metadata": {},
   "outputs": [
    {
     "name": "stdout",
     "output_type": "stream",
     "text": [
      "{'jack': 4098, 'sape': 4139, 'guido': 4127}\n"
     ]
    }
   ],
   "source": [
    "# add an element\n",
    "tel['guido'] = 4127\n",
    "print(tel)"
   ]
  },
  {
   "cell_type": "code",
   "execution_count": 13,
   "metadata": {},
   "outputs": [
    {
     "name": "stdout",
     "output_type": "stream",
     "text": [
      "4098\n"
     ]
    }
   ],
   "source": [
    "# get an element\n",
    "print(tel['jack'])"
   ]
  },
  {
   "cell_type": "code",
   "execution_count": 14,
   "metadata": {
    "collapsed": true
   },
   "outputs": [],
   "source": [
    "# delete an element\n",
    "del tel['jack']"
   ]
  },
  {
   "cell_type": "code",
   "execution_count": 15,
   "metadata": {},
   "outputs": [
    {
     "name": "stdout",
     "output_type": "stream",
     "text": [
      "sape\n",
      "guido\n"
     ]
    }
   ],
   "source": [
    "# iterate over the keys of a dictionary\n",
    "for key in tel:\n",
    "    print(key)"
   ]
  },
  {
   "cell_type": "code",
   "execution_count": 16,
   "metadata": {},
   "outputs": [
    {
     "name": "stdout",
     "output_type": "stream",
     "text": [
      "56\n",
      "56\n"
     ]
    }
   ],
   "source": [
    "# you can create a dictionary that behaves much like a list, using ints as keys\n",
    "nums = {0: 56, 1: 24, 2: 38}\n",
    "nums2 = [56, 24, 38]\n",
    "print(nums[0])\n",
    "print(nums2[0])"
   ]
  },
  {
   "cell_type": "markdown",
   "metadata": {
    "collapsed": true
   },
   "source": [
    "### Examples from class"
   ]
  },
  {
   "cell_type": "code",
   "execution_count": 1,
   "metadata": {},
   "outputs": [],
   "source": [
    "product_to_price = {'apple': 1.0, 'pear': 1.5, 'grapes': 0.75}"
   ]
  },
  {
   "cell_type": "code",
   "execution_count": 7,
   "metadata": {},
   "outputs": [],
   "source": [
    "product_to_price['cherry'] = 1.25\n",
    "product_to_price['apple'] = 0.5"
   ]
  },
  {
   "cell_type": "code",
   "execution_count": 8,
   "metadata": {},
   "outputs": [
    {
     "data": {
      "text/plain": [
       "{'apple': 0.5, 'pear': 1.5, 'grapes': 0.75, 'cherry': 1.25}"
      ]
     },
     "execution_count": 8,
     "metadata": {},
     "output_type": "execute_result"
    }
   ],
   "source": [
    "product_to_price"
   ]
  },
  {
   "cell_type": "code",
   "execution_count": 9,
   "metadata": {},
   "outputs": [],
   "source": [
    "product_to_price2 = {'tuna': 2.5, 'corn flakes': 1.75, 'soup': 2}"
   ]
  },
  {
   "cell_type": "code",
   "execution_count": 10,
   "metadata": {},
   "outputs": [],
   "source": [
    "product_to_price.update(product_to_price2)"
   ]
  },
  {
   "cell_type": "code",
   "execution_count": 11,
   "metadata": {},
   "outputs": [
    {
     "name": "stdout",
     "output_type": "stream",
     "text": [
      "{'apple': 0.5, 'pear': 1.5, 'grapes': 0.75, 'cherry': 1.25, 'tuna': 2.5, 'corn flakes': 1.75, 'soup': 2}\n",
      "{'tuna': 2.5, 'corn flakes': 1.75, 'soup': 2}\n"
     ]
    }
   ],
   "source": [
    "print(product_to_price)\n",
    "print(product_to_price2)"
   ]
  },
  {
   "cell_type": "code",
   "execution_count": 15,
   "metadata": {},
   "outputs": [
    {
     "data": {
      "text/plain": [
       "['apple', 'cherry', 'corn flakes', 'grapes', 'pear', 'soup', 'tuna']"
      ]
     },
     "execution_count": 15,
     "metadata": {},
     "output_type": "execute_result"
    }
   ],
   "source": [
    "sorted(product_to_price.keys())"
   ]
  },
  {
   "cell_type": "code",
   "execution_count": 16,
   "metadata": {},
   "outputs": [
    {
     "name": "stdout",
     "output_type": "stream",
     "text": [
      "{'apple': 0.5, 'cherry': 1.25, 'corn flakes': 1.75, 'grapes': 0.75, 'pear': 1.5, 'soup': 2, 'tuna': 2.5}\n"
     ]
    }
   ],
   "source": [
    "sorted_product_to_price = {}\n",
    "for key in sorted(product_to_price.keys()):\n",
    "    sorted_product_to_price[key] = product_to_price[key]\n",
    "print(sorted_product_to_price)"
   ]
  },
  {
   "cell_type": "code",
   "execution_count": 17,
   "metadata": {},
   "outputs": [
    {
     "name": "stdout",
     "output_type": "stream",
     "text": [
      "apple 0.5\n",
      "cherry 1.25\n",
      "corn flakes 1.75\n",
      "grapes 0.75\n",
      "pear 1.5\n",
      "soup 2\n",
      "tuna 2.5\n"
     ]
    }
   ],
   "source": [
    "for key in sorted(product_to_price.keys()):\n",
    "    print(key, product_to_price[key])"
   ]
  },
  {
   "cell_type": "code",
   "execution_count": 19,
   "metadata": {},
   "outputs": [
    {
     "name": "stdout",
     "output_type": "stream",
     "text": [
      "apple\n",
      "pear\n",
      "grapes\n",
      "cherry\n",
      "tuna\n",
      "corn flakes\n",
      "soup\n"
     ]
    }
   ],
   "source": [
    "for x in product_to_price:\n",
    "    print(x)"
   ]
  },
  {
   "cell_type": "code",
   "execution_count": 24,
   "metadata": {},
   "outputs": [
    {
     "name": "stdout",
     "output_type": "stream",
     "text": [
      "apple\n",
      "pear\n",
      "grapes\n",
      "cherry\n",
      "tuna\n",
      "corn flakes\n",
      "soup\n"
     ]
    }
   ],
   "source": [
    "for x in product_to_price.keys():\n",
    "    print(x)"
   ]
  },
  {
   "cell_type": "code",
   "execution_count": 20,
   "metadata": {},
   "outputs": [
    {
     "name": "stdout",
     "output_type": "stream",
     "text": [
      "0.5\n",
      "1.5\n",
      "0.75\n",
      "1.25\n",
      "2.5\n",
      "1.75\n",
      "2\n"
     ]
    }
   ],
   "source": [
    "for x in product_to_price.values():\n",
    "    print(x)"
   ]
  },
  {
   "cell_type": "code",
   "execution_count": 22,
   "metadata": {},
   "outputs": [
    {
     "name": "stdout",
     "output_type": "stream",
     "text": [
      "('apple', 0.5)\n",
      "('pear', 1.5)\n",
      "('grapes', 0.75)\n",
      "('cherry', 1.25)\n",
      "('tuna', 2.5)\n",
      "('corn flakes', 1.75)\n",
      "('soup', 2)\n"
     ]
    }
   ],
   "source": [
    "for x in product_to_price.items():\n",
    "    print(x)"
   ]
  },
  {
   "cell_type": "code",
   "execution_count": 23,
   "metadata": {},
   "outputs": [
    {
     "name": "stdout",
     "output_type": "stream",
     "text": [
      "the key is apple the value is 0.5\n",
      "the key is pear the value is 1.5\n",
      "the key is grapes the value is 0.75\n",
      "the key is cherry the value is 1.25\n",
      "the key is tuna the value is 2.5\n",
      "the key is corn flakes the value is 1.75\n",
      "the key is soup the value is 2\n"
     ]
    }
   ],
   "source": [
    "for x, y in product_to_price.items():\n",
    "    print('the key is', str(x), 'the value is', str(y))"
   ]
  },
  {
   "cell_type": "code",
   "execution_count": 25,
   "metadata": {},
   "outputs": [],
   "source": [
    "ari_scale = {\n",
    "     1: {'ages':   '5-6', 'grade_level': 'Kindergarten'},\n",
    "     2: {'ages':   '6-7', 'grade_level':    '1st Grade'},\n",
    "     3: {'ages':   '7-8', 'grade_level':    '2nd Grade'},\n",
    "     4: {'ages':   '8-9', 'grade_level':    '3rd Grade'},\n",
    "     5: {'ages':  '9-10', 'grade_level':    '4th Grade'},\n",
    "     6: {'ages': '10-11', 'grade_level':    '5th Grade'},\n",
    "     7: {'ages': '11-12', 'grade_level':    '6th Grade'},\n",
    "     8: {'ages': '12-13', 'grade_level':    '7th Grade'},\n",
    "     9: {'ages': '13-14', 'grade_level':    '8th Grade'},\n",
    "    10: {'ages': '14-15', 'grade_level':    '9th Grade'},\n",
    "    11: {'ages': '15-16', 'grade_level':   '10th Grade'},\n",
    "    12: {'ages': '16-17', 'grade_level':   '11th Grade'},\n",
    "    13: {'ages': '17-18', 'grade_level':   '12th Grade'},\n",
    "    14: {'ages': '18-22', 'grade_level':      'College'}\n",
    "}"
   ]
  },
  {
   "cell_type": "code",
   "execution_count": 28,
   "metadata": {},
   "outputs": [
    {
     "data": {
      "text/plain": [
       "'9th Grade'"
      ]
     },
     "execution_count": 28,
     "metadata": {},
     "output_type": "execute_result"
    }
   ],
   "source": [
    "ari_scale[10]['grade_level']"
   ]
  },
  {
   "cell_type": "code",
   "execution_count": 35,
   "metadata": {},
   "outputs": [
    {
     "name": "stdout",
     "output_type": "stream",
     "text": [
      "{'apple': 0.5, 'pear': 1.5, 'grapes': 0.75, 'cherry': 1.25, 'tuna': 2.5, 'corn flakes': 1.75, 'soup': 2}\n",
      "{0.5: 'apple', 1.5: 'pear', 0.75: 'grapes', 1.25: 'cherry', 2.5: 'tuna', 1.75: 'corn flakes', 2: 'soup'}\n"
     ]
    }
   ],
   "source": [
    "liquidation = {key: value / 2 for key, value in product_to_price.items()}\n",
    "print(product_to_price)\n",
    "print(liquidation)"
   ]
  },
  {
   "cell_type": "code",
   "execution_count": null,
   "metadata": {},
   "outputs": [],
   "source": []
  }
 ],
 "metadata": {
  "kernelspec": {
   "display_name": "Python 3",
   "language": "python",
   "name": "python3"
  },
  "language_info": {
   "codemirror_mode": {
    "name": "ipython",
    "version": 3
   },
   "file_extension": ".py",
   "mimetype": "text/x-python",
   "name": "python",
   "nbconvert_exporter": "python",
   "pygments_lexer": "ipython3",
   "version": "3.6.5"
  }
 },
 "nbformat": 4,
 "nbformat_minor": 2
}
