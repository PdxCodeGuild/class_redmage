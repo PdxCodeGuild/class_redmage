{
 "cells": [
  {
   "cell_type": "markdown",
   "metadata": {},
   "source": [
    "# 5: Functions\n",
    "---\n",
    "We've been using functions others have written, but now we'll get to use our own. The major advantage writing a function is that it allows us to re-use code. Another benefit is that it allows us to isolate and compartmentalize functionality, and inject english into our code through the function name."
   ]
  },
  {
   "cell_type": "code",
   "execution_count": 1,
   "metadata": {},
   "outputs": [
    {
     "name": "stdout",
     "output_type": "stream",
     "text": [
      "hello world!\n",
      "hello world!\n",
      "hello world!\n",
      "hello world!\n"
     ]
    }
   ],
   "source": [
    "def say_hello(): #this is a function definition, the name is arbitrary\n",
    "    print('hello world!') #this is the function body\n",
    "say_hello() #this is a function 'call' or 'invocation', it matches the name\n",
    "\n",
    "# the major benefit of functions is that they allow us to re-use code\n",
    "say_hello()\n",
    "say_hello()\n",
    "say_hello()"
   ]
  },
  {
   "cell_type": "code",
   "execution_count": 2,
   "metadata": {},
   "outputs": [
    {
     "name": "stdout",
     "output_type": "stream",
     "text": [
      "hello world!\n",
      "hello again!\n"
     ]
    }
   ],
   "source": [
    "# functions can take 'parameters' or 'arguments', variables that are passed to the function when it's called\n",
    "# these variables are only visible within the function\n",
    "# like variable names, the parameter names are arbitrary\n",
    "def print_txt(txt): \n",
    "    print(txt)\n",
    "\n",
    "print_txt('hello world!') # when a function is called, whatever value is passed is given the parameter name within the function\n",
    "\n",
    "s = 'hello again!'\n",
    "print_txt(s) # functions allow us to isolate pieces of code that serve a specific purpose, and re-use them"
   ]
  },
  {
   "cell_type": "code",
   "execution_count": 3,
   "metadata": {},
   "outputs": [
    {
     "name": "stdout",
     "output_type": "stream",
     "text": [
      "7\n",
      "8\n",
      "hello world!\n"
     ]
    }
   ],
   "source": [
    "# a function can take multiple parameters, and 'return' a value\n",
    "def add(a, b):\n",
    "    return a + b\n",
    "x = add(5, 2) # the returned value can be stored in a variable\n",
    "y = add(x, 1)\n",
    "print(x)\n",
    "print(y)\n",
    "\n",
    "# don't forget that python is 'weakly-typed'\n",
    "s = add('hello ', 'world!')\n",
    "print(s)"
   ]
  },
  {
   "cell_type": "code",
   "execution_count": 4,
   "metadata": {},
   "outputs": [
    {
     "name": "stdout",
     "output_type": "stream",
     "text": [
      "6\n",
      "7\n"
     ]
    }
   ],
   "source": [
    "# we also can have 'default paramaters'\n",
    "# these will default to the given value if left unspecified in the call\n",
    "\n",
    "def add(a, b=1):\n",
    "    print(a + b)\n",
    "add(5)\n",
    "add(5,2)"
   ]
  },
  {
   "cell_type": "code",
   "execution_count": 5,
   "metadata": {},
   "outputs": [
    {
     "name": "stdout",
     "output_type": "stream",
     "text": [
      "7\n",
      "5\t6\t7\t"
     ]
    }
   ],
   "source": [
    "# we can also allows us to explicitly name the parameter\n",
    "def add(a, b=1):\n",
    "    print(a + b)\n",
    "add(5, b=2)\n",
    "\n",
    "# note the use with 'print', the default value of end is '\\n'\n",
    "print(5, end='\\t')\n",
    "print(6, end='\\t')\n",
    "print(7, end='\\t')"
   ]
  },
  {
   "cell_type": "code",
   "execution_count": 6,
   "metadata": {},
   "outputs": [
    {
     "name": "stdout",
     "output_type": "stream",
     "text": [
      "7\n",
      "None\n"
     ]
    }
   ],
   "source": [
    "# if we don't return a value, it'll implicitly be 'None'\n",
    "def add(a, b):\n",
    "    print(a + b) # note, there's no 'return' statement\n",
    "c = add(5, 2) # when we go to assign the result to a variable, it'll be None\n",
    "print(c)"
   ]
  },
  {
   "cell_type": "code",
   "execution_count": 7,
   "metadata": {},
   "outputs": [
    {
     "name": "stdout",
     "output_type": "stream",
     "text": [
      "7\n",
      "None\n"
     ]
    }
   ],
   "source": [
    "# we can also explicitly return None\n",
    "def add(a, b):\n",
    "    print(a + b)\n",
    "    return None\n",
    "c = add(5, 2)\n",
    "print(c)"
   ]
  },
  {
   "cell_type": "markdown",
   "metadata": {
    "collapsed": true
   },
   "source": [
    "### Examples from class"
   ]
  },
  {
   "cell_type": "code",
   "execution_count": 8,
   "metadata": {},
   "outputs": [],
   "source": [
    "def say_hello():\n",
    "    print('hello!')"
   ]
  },
  {
   "cell_type": "code",
   "execution_count": 9,
   "metadata": {},
   "outputs": [
    {
     "name": "stdout",
     "output_type": "stream",
     "text": [
      "hello!\n"
     ]
    }
   ],
   "source": [
    "say_hello()"
   ]
  },
  {
   "cell_type": "code",
   "execution_count": 10,
   "metadata": {},
   "outputs": [
    {
     "data": {
      "text/plain": [
       "<function __main__.say_hello()>"
      ]
     },
     "execution_count": 10,
     "metadata": {},
     "output_type": "execute_result"
    }
   ],
   "source": [
    "say_hello"
   ]
  },
  {
   "cell_type": "code",
   "execution_count": 11,
   "metadata": {},
   "outputs": [
    {
     "name": "stdout",
     "output_type": "stream",
     "text": [
      "what is your first name? merritt\n",
      "what is your last name? lawrenson\n",
      "Hello merritt lawrenson\n",
      "Hello first last\n",
      "merritt lawrenson\n"
     ]
    }
   ],
   "source": [
    "def say_hello(first_name, last_name):\n",
    "    print('Hello ' + first_name + ' ' + last_name)\n",
    "    def say_hello_again(first_name, last_name):\n",
    "        print('Hello ' + first_name + ' ' + last_name)\n",
    "    say_hello_again('first', 'last')\n",
    "    print(first_name, last_name)\n",
    "\n",
    "fn = input('what is your first name? ')\n",
    "ln = input('what is your last name? ')\n",
    "say_hello(fn, ln)"
   ]
  },
  {
   "cell_type": "code",
   "execution_count": 12,
   "metadata": {},
   "outputs": [
    {
     "ename": "NameError",
     "evalue": "name 'first_name' is not defined",
     "output_type": "error",
     "traceback": [
      "\u001b[0;31m---------------------------------------------------------------------------\u001b[0m",
      "\u001b[0;31mNameError\u001b[0m                                 Traceback (most recent call last)",
      "\u001b[0;32m<ipython-input-12-04501a883ecd>\u001b[0m in \u001b[0;36m<module>\u001b[0;34m()\u001b[0m\n\u001b[0;32m----> 1\u001b[0;31m \u001b[0mfirst_name\u001b[0m\u001b[0;34m\u001b[0m\u001b[0m\n\u001b[0m",
      "\u001b[0;31mNameError\u001b[0m: name 'first_name' is not defined"
     ]
    }
   ],
   "source": [
    "first_name"
   ]
  },
  {
   "cell_type": "code",
   "execution_count": 13,
   "metadata": {},
   "outputs": [],
   "source": [
    "def subtract(a, b):\n",
    "    return a - b"
   ]
  },
  {
   "cell_type": "code",
   "execution_count": 14,
   "metadata": {},
   "outputs": [
    {
     "data": {
      "text/plain": [
       "3"
      ]
     },
     "execution_count": 14,
     "metadata": {},
     "output_type": "execute_result"
    }
   ],
   "source": [
    "subtract(5,2)"
   ]
  },
  {
   "cell_type": "code",
   "execution_count": 15,
   "metadata": {},
   "outputs": [],
   "source": [
    "x = subtract(5,2)"
   ]
  },
  {
   "cell_type": "code",
   "execution_count": 16,
   "metadata": {},
   "outputs": [
    {
     "data": {
      "text/plain": [
       "3"
      ]
     },
     "execution_count": 16,
     "metadata": {},
     "output_type": "execute_result"
    }
   ],
   "source": [
    "x"
   ]
  },
  {
   "cell_type": "code",
   "execution_count": 17,
   "metadata": {},
   "outputs": [],
   "source": [
    "y = 0\n",
    "def subtract(a, b):\n",
    "  y = a - b"
   ]
  },
  {
   "cell_type": "code",
   "execution_count": 18,
   "metadata": {},
   "outputs": [],
   "source": [
    "subtract(5,2)"
   ]
  },
  {
   "cell_type": "code",
   "execution_count": 19,
   "metadata": {},
   "outputs": [
    {
     "data": {
      "text/plain": [
       "0"
      ]
     },
     "execution_count": 19,
     "metadata": {},
     "output_type": "execute_result"
    }
   ],
   "source": [
    "y"
   ]
  },
  {
   "cell_type": "code",
   "execution_count": 20,
   "metadata": {},
   "outputs": [
    {
     "name": "stdout",
     "output_type": "stream",
     "text": [
      "2\n"
     ]
    }
   ],
   "source": [
    "def min(a, b):\n",
    "    if a < b:\n",
    "        return a\n",
    "    return b\n",
    "x = min(5, 2)\n",
    "print(x)"
   ]
  },
  {
   "cell_type": "code",
   "execution_count": 21,
   "metadata": {},
   "outputs": [
    {
     "name": "stdout",
     "output_type": "stream",
     "text": [
      "500\n",
      "200\n"
     ]
    }
   ],
   "source": [
    "def get_dimensions():\n",
    "    return 500, 200\n",
    "\n",
    "width, height = get_dimensions()\n",
    "print(width)\n",
    "print(height)"
   ]
  },
  {
   "cell_type": "code",
   "execution_count": 22,
   "metadata": {},
   "outputs": [
    {
     "name": "stdout",
     "output_type": "stream",
     "text": [
      "(500, 200)\n"
     ]
    }
   ],
   "source": [
    "print(get_dimensions())"
   ]
  },
  {
   "cell_type": "code",
   "execution_count": 23,
   "metadata": {},
   "outputs": [],
   "source": [
    "# def print(value_to_print, end='\\n', sep = ' '):\n",
    "#     # print things here\n",
    "#     pass"
   ]
  },
  {
   "cell_type": "code",
   "execution_count": 30,
   "metadata": {},
   "outputs": [
    {
     "name": "stdout",
     "output_type": "stream",
     "text": [
      "jane\n",
      "('Sharknado', 'Frozen', 'Transformers')\n",
      "{'Marvel': 3, 'DC': 2}\n"
     ]
    }
   ],
   "source": [
    "def print_movie_ratings(username, *args, **kwargs):\n",
    "    \"\"\"Update the user’s ratings for movies.\n",
    "    Update movies from *args that are keys in **kwargs.\n",
    "    \"\"\"\n",
    "    print(username)\n",
    "    print(args)\n",
    "    print(kwargs)\n",
    "    \n",
    "#     for arg in args:  # Loop through the tuple `args`\n",
    "#         if arg in kwargs:  # Loop through keys of the `kwargs` dictionary\n",
    "#             print(arg, kwargs[arg])\n",
    "\n",
    "print_movie_ratings('jane', 'Sharknado', 'Frozen', 'Transformers', Sharknado=3, Frozen=2, Fargo=5)"
   ]
  },
  {
   "cell_type": "code",
   "execution_count": 25,
   "metadata": {},
   "outputs": [
    {
     "name": "stdout",
     "output_type": "stream",
     "text": [
      "Hello\n"
     ]
    }
   ],
   "source": [
    "print('Hello')"
   ]
  },
  {
   "cell_type": "code",
   "execution_count": 26,
   "metadata": {},
   "outputs": [],
   "source": [
    "def factorial(n):\n",
    "    if n == 0:\n",
    "        return 1\n",
    "    return n*factorial(n-1)\n",
    "\n",
    "# return 5*(4*(3*(2*(1*(1)))))"
   ]
  },
  {
   "cell_type": "code",
   "execution_count": 27,
   "metadata": {},
   "outputs": [],
   "source": [
    "add1 = lambda x,y: x + y\n",
    "\n",
    "def add2(x, y):\n",
    "    return x + y"
   ]
  },
  {
   "cell_type": "code",
   "execution_count": 28,
   "metadata": {},
   "outputs": [
    {
     "name": "stdout",
     "output_type": "stream",
     "text": [
      "None\n",
      "None\n",
      "None\n"
     ]
    }
   ],
   "source": [
    "# Writing an assignment as a function\n",
    "\n",
    "def number_to_phrase(number):\n",
    "    pass\n",
    "\n",
    "print(number_to_phrase(9))\n",
    "print(number_to_phrase(59))\n",
    "print(number_to_phrase(190))"
   ]
  }
 ],
 "metadata": {
  "kernelspec": {
   "display_name": "Python 3",
   "language": "python",
   "name": "python3"
  },
  "language_info": {
   "codemirror_mode": {
    "name": "ipython",
    "version": 3
   },
   "file_extension": ".py",
   "mimetype": "text/x-python",
   "name": "python",
   "nbconvert_exporter": "python",
   "pygments_lexer": "ipython3",
   "version": "3.6.5"
  }
 },
 "nbformat": 4,
 "nbformat_minor": 2
}
